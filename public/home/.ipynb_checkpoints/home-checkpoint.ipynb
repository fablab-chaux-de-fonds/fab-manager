{
 "cells": [
  {
   "cell_type": "code",
   "execution_count": 4,
   "metadata": {},
   "outputs": [],
   "source": [
    "import json\n",
    "import os\n",
    "import base64\n",
    "\n",
    "with open('./home_text.json') as f:\n",
    "    data = json.load(f)\n",
    "    \n",
    "with open('./assets/fablab-map.svg.png',\"rb\") as image_file:\n",
    "        data['address']['map'] = base64.b64encode(image_file.read()).decode('ascii')\n",
    "        \n",
    "with open('./assets/bannersite.jpg',\"rb\") as image_file:\n",
    "    data['banner'] = base64.b64encode(image_file.read()).decode('ascii')\n",
    "\n",
    "for i in ['open_lab', 'discovery_lab', 'expert_lab']:\n",
    "    with open('./assets/' + i + '.png',\"rb\") as image_file:\n",
    "            data[i]['logo'] = base64.b64encode(image_file.read()).decode('ascii')\n",
    "            \n",
    "for i in ['mail', 'facebook', 'instagram']:\n",
    "    with open('./assets/fablab-picto-' + i + '.png', \"rb\") as image_file:\n",
    "        data['social'][i]['logo'] = base64.b64encode(image_file.read()).decode('ascii')\n",
    "        \n",
    "with open('home.json', 'w', encoding='utf-8') as fp:\n",
    "    json.dump(data, fp)"
   ]
  },
  {
   "cell_type": "code",
   "execution_count": 5,
   "metadata": {},
   "outputs": [
    {
     "data": {
      "text/plain": [
       "{'facebook': {'link': 'https://www.facebook.com/FabLabChauxDeFonds',\n",
       "  'logo': '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'},\n",
       " 'instagram': {'link': 'https://www.instagram.com/fablab_chaux_de_fonds',\n",
       "  'logo': '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'},\n",
       " 'mail': {'link': 'mailto:info@fablab-chaux-de-fonds.ch',\n",
       "  'logo': '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'}}"
      ]
     },
     "execution_count": 5,
     "metadata": {},
     "output_type": "execute_result"
    }
   ],
   "source": [
    "data['social']"
   ]
  },
  {
   "cell_type": "code",
   "execution_count": null,
   "metadata": {},
   "outputs": [],
   "source": []
  }
 ],
 "metadata": {
  "kernelspec": {
   "display_name": "Python 3",
   "language": "python",
   "name": "python3"
  },
  "language_info": {
   "codemirror_mode": {
    "name": "ipython",
    "version": 3
   },
   "file_extension": ".py",
   "mimetype": "text/x-python",
   "name": "python",
   "nbconvert_exporter": "python",
   "pygments_lexer": "ipython3",
   "version": "3.7.0"
  }
 },
 "nbformat": 4,
 "nbformat_minor": 2
}
