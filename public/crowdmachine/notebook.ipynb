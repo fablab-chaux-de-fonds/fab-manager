{
 "cells": [
  {
   "cell_type": "code",
   "execution_count": 14,
   "metadata": {},
   "outputs": [],
   "source": [
    "import pandas as pd\n",
    "import base64\n",
    "import os\n",
    "import json\n",
    "\n",
    "path=r'../../app/assets/images/crowdmachine/400x400'\n",
    "\n",
    "def to_base64(file):\n",
    "    with open(file, \"rb\") as image_file:\n",
    "        return base64.b64encode(image_file.read()).decode('ascii')  \n",
    "\n",
    "url = 'https://docs.google.com/spreadsheets/d/1uS8elJvel5WN_dvNN7ziWpwc-Qz3lVh0GdPCYTN90-s/gviz/tq?tqx=out:csv&sheet='\n",
    "df = pd.read_csv(url)[['sort', 'id', 'title', 'description', 'specification']]\n",
    "\n",
    "df['image'] = df.apply(lambda row: to_base64(os.path.join(path, str(row.id) + '_400x400.png')), axis=1)\n",
    "df['specification'] = df.apply(lambda row: row['specification'].split('\\n'), axis=1)\n",
    "data = {'data': df.to_dict(orient='records')}\n",
    "with open('crowdmachine.json', 'w', encoding='utf-8') as fp:\n",
    "    json.dump(data, fp)"
   ]
  },
  {
   "cell_type": "code",
   "execution_count": null,
   "metadata": {},
   "outputs": [],
   "source": []
  }
 ],
 "metadata": {
  "kernelspec": {
   "display_name": "Python 3",
   "language": "python",
   "name": "python3"
  },
  "language_info": {
   "codemirror_mode": {
    "name": "ipython",
    "version": 3
   },
   "file_extension": ".py",
   "mimetype": "text/x-python",
   "name": "python",
   "nbconvert_exporter": "python",
   "pygments_lexer": "ipython3",
   "version": "3.6.6"
  }
 },
 "nbformat": 4,
 "nbformat_minor": 2
}
